{
 "cells": [
  {
   "cell_type": "code",
   "execution_count": 1,
   "metadata": {},
   "outputs": [],
   "source": [
    "import pandas as pd\n",
    "import os\n",
    "from dotenv import load_dotenv"
   ]
  },
  {
   "cell_type": "code",
   "execution_count": 3,
   "metadata": {},
   "outputs": [
    {
     "data": {
      "text/plain": [
       "True"
      ]
     },
     "execution_count": 3,
     "metadata": {},
     "output_type": "execute_result"
    }
   ],
   "source": [
    "load_dotenv()"
   ]
  },
  {
   "cell_type": "code",
   "execution_count": 4,
   "metadata": {},
   "outputs": [],
   "source": [
    "conn_url = os.getenv(\"DB_CONN\")"
   ]
  },
  {
   "cell_type": "code",
   "execution_count": 12,
   "metadata": {},
   "outputs": [],
   "source": [
    "users = pd.read_sql(\n",
    "    \"SELECT * FROM public.user_data;\",\n",
    "    conn_url\n",
    ")\n",
    "\n",
    "posts = pd.read_sql(\n",
    "    \"SELECT * FROM public.post_text_df;\",\n",
    "    conn_url\n",
    ")"
   ]
  },
  {
   "cell_type": "code",
   "execution_count": 3,
   "metadata": {},
   "outputs": [],
   "source": [
    "feedback = pd.read_sql(\n",
    "    \"\"\"WITH RankedFeedData AS (\n",
    "        SELECT \n",
    "            timestamp,\n",
    "            user_id,\n",
    "            post_id,\n",
    "            action,\n",
    "            target,\n",
    "            ROW_NUMBER() OVER (PARTITION BY user_id ORDER BY timestamp DESC) AS row_num\n",
    "        FROM \n",
    "            feed_data\n",
    "    )\n",
    "    SELECT \n",
    "        timestamp,\n",
    "        user_id,\n",
    "        post_id,\n",
    "        action,\n",
    "        target\n",
    "    FROM \n",
    "        RankedFeedData\n",
    "    WHERE \n",
    "        row_num <= 30;\n",
    "    \"\"\",\n",
    "    conn_url\n",
    ")"
   ]
  },
  {
   "cell_type": "code",
   "execution_count": 4,
   "metadata": {},
   "outputs": [],
   "source": [
    "users_likes = pd.read_sql(\n",
    "    \"\"\"WITH RankedFeedData AS (\n",
    "        SELECT \n",
    "            timestamp,\n",
    "            user_id,\n",
    "            post_id,\n",
    "            action,\n",
    "            target,\n",
    "            ROW_NUMBER() OVER (PARTITION BY user_id ORDER BY timestamp DESC) AS row_num\n",
    "        FROM \n",
    "            feed_data\n",
    "        WHERE\n",
    "            action = 'like'\n",
    "    )\n",
    "    SELECT \n",
    "        timestamp,\n",
    "        user_id,\n",
    "        post_id,\n",
    "        action,\n",
    "        target\n",
    "    FROM \n",
    "        RankedFeedData\n",
    "    WHERE \n",
    "        row_num <= 10;\n",
    "    \"\"\",\n",
    "    conn_url\n",
    ")"
   ]
  },
  {
   "cell_type": "code",
   "execution_count": 5,
   "metadata": {},
   "outputs": [],
   "source": [
    "users_views = pd.read_sql(\n",
    "    \"\"\"WITH RankedFeedData AS (\n",
    "        SELECT \n",
    "            timestamp,\n",
    "            user_id,\n",
    "            post_id,\n",
    "            action,\n",
    "            target,\n",
    "            ROW_NUMBER() OVER (PARTITION BY user_id ORDER BY timestamp DESC) AS row_num\n",
    "        FROM \n",
    "            feed_data\n",
    "        WHERE\n",
    "            action = 'view'\n",
    "    )\n",
    "    SELECT \n",
    "        timestamp,\n",
    "        user_id,\n",
    "        post_id,\n",
    "        action,\n",
    "        target\n",
    "    FROM \n",
    "        RankedFeedData\n",
    "    WHERE \n",
    "        row_num <= 10;\n",
    "    \"\"\",\n",
    "    conn_url\n",
    ")"
   ]
  },
  {
   "cell_type": "code",
   "execution_count": 6,
   "metadata": {},
   "outputs": [
    {
     "data": {
      "text/plain": [
       "((1615528, 5), (1632050, 5))"
      ]
     },
     "execution_count": 6,
     "metadata": {},
     "output_type": "execute_result"
    }
   ],
   "source": [
    "users_likes.shape, users_views.shape"
   ]
  },
  {
   "cell_type": "code",
   "execution_count": 7,
   "metadata": {},
   "outputs": [],
   "source": [
    "# удалим просмотры пользователя у тех постов, которых пользователь поставил лайк\n",
    "\n",
    "df_like_copy = users_likes.copy()\n",
    "df_view_copy = users_views.copy()\n",
    "\n",
    "merged_df = pd.merge(df_view_copy, df_like_copy, on=['user_id', 'post_id'], how='left', suffixes=('_view', '_like'))\n",
    "\n",
    "filtered_df = merged_df[merged_df['action_like'].isnull()]\n",
    "\n",
    "df_view_copy = filtered_df[['timestamp_view', 'user_id', 'post_id', 'action_view', 'target_view']]\n",
    "\n",
    "df_view_copy = df_view_copy.rename(columns={'timestamp_view': 'timestamp', 'action_view': 'action', 'target_view': 'target'})\n"
   ]
  },
  {
   "cell_type": "code",
   "execution_count": 8,
   "metadata": {},
   "outputs": [
    {
     "data": {
      "text/plain": [
       "((1615528, 5), (1510221, 5))"
      ]
     },
     "execution_count": 8,
     "metadata": {},
     "output_type": "execute_result"
    }
   ],
   "source": [
    "df_like_copy.shape, df_view_copy.shape"
   ]
  },
  {
   "cell_type": "code",
   "execution_count": 9,
   "metadata": {},
   "outputs": [],
   "source": [
    "feedback = pd.concat((df_view_copy, df_like_copy), axis=0)"
   ]
  },
  {
   "cell_type": "code",
   "execution_count": 10,
   "metadata": {},
   "outputs": [
    {
     "data": {
      "text/html": [
       "<div>\n",
       "<style scoped>\n",
       "    .dataframe tbody tr th:only-of-type {\n",
       "        vertical-align: middle;\n",
       "    }\n",
       "\n",
       "    .dataframe tbody tr th {\n",
       "        vertical-align: top;\n",
       "    }\n",
       "\n",
       "    .dataframe thead th {\n",
       "        text-align: right;\n",
       "    }\n",
       "</style>\n",
       "<table border=\"1\" class=\"dataframe\">\n",
       "  <thead>\n",
       "    <tr style=\"text-align: right;\">\n",
       "      <th></th>\n",
       "      <th>timestamp</th>\n",
       "      <th>user_id</th>\n",
       "      <th>post_id</th>\n",
       "      <th>action</th>\n",
       "    </tr>\n",
       "  </thead>\n",
       "  <tbody>\n",
       "    <tr>\n",
       "      <th>0</th>\n",
       "      <td>2021-12-29 15:24:59</td>\n",
       "      <td>200</td>\n",
       "      <td>1773</td>\n",
       "      <td>0</td>\n",
       "    </tr>\n",
       "    <tr>\n",
       "      <th>2</th>\n",
       "      <td>2021-12-29 15:23:54</td>\n",
       "      <td>200</td>\n",
       "      <td>1122</td>\n",
       "      <td>0</td>\n",
       "    </tr>\n",
       "    <tr>\n",
       "      <th>3</th>\n",
       "      <td>2021-12-29 15:23:29</td>\n",
       "      <td>200</td>\n",
       "      <td>1362</td>\n",
       "      <td>0</td>\n",
       "    </tr>\n",
       "    <tr>\n",
       "      <th>4</th>\n",
       "      <td>2021-12-29 15:21:53</td>\n",
       "      <td>200</td>\n",
       "      <td>1541</td>\n",
       "      <td>0</td>\n",
       "    </tr>\n",
       "    <tr>\n",
       "      <th>5</th>\n",
       "      <td>2021-12-29 15:21:18</td>\n",
       "      <td>200</td>\n",
       "      <td>2160</td>\n",
       "      <td>0</td>\n",
       "    </tr>\n",
       "  </tbody>\n",
       "</table>\n",
       "</div>"
      ],
      "text/plain": [
       "            timestamp  user_id  post_id  action\n",
       "0 2021-12-29 15:24:59      200     1773       0\n",
       "2 2021-12-29 15:23:54      200     1122       0\n",
       "3 2021-12-29 15:23:29      200     1362       0\n",
       "4 2021-12-29 15:21:53      200     1541       0\n",
       "5 2021-12-29 15:21:18      200     2160       0"
      ]
     },
     "execution_count": 10,
     "metadata": {},
     "output_type": "execute_result"
    }
   ],
   "source": [
    "feedback = feedback.drop([\"target\"], axis=1)\n",
    "feedback[\"action\"] = feedback[\"action\"].apply(lambda x: 1 if x == \"like\" else 0)\n",
    "feedback.head()"
   ]
  },
  {
   "cell_type": "markdown",
   "metadata": {},
   "source": [
    "# не нужное"
   ]
  },
  {
   "cell_type": "code",
   "execution_count": 38,
   "metadata": {},
   "outputs": [],
   "source": [
    "feedback = pd.read_csv(\"feed_back_each_user.csv\")"
   ]
  },
  {
   "cell_type": "code",
   "execution_count": 5,
   "metadata": {},
   "outputs": [
    {
     "data": {
      "text/html": [
       "<div>\n",
       "<style scoped>\n",
       "    .dataframe tbody tr th:only-of-type {\n",
       "        vertical-align: middle;\n",
       "    }\n",
       "\n",
       "    .dataframe tbody tr th {\n",
       "        vertical-align: top;\n",
       "    }\n",
       "\n",
       "    .dataframe thead th {\n",
       "        text-align: right;\n",
       "    }\n",
       "</style>\n",
       "<table border=\"1\" class=\"dataframe\">\n",
       "  <thead>\n",
       "    <tr style=\"text-align: right;\">\n",
       "      <th></th>\n",
       "      <th>timestamp</th>\n",
       "      <th>user_id</th>\n",
       "      <th>post_id</th>\n",
       "      <th>action</th>\n",
       "      <th>target</th>\n",
       "    </tr>\n",
       "  </thead>\n",
       "  <tbody>\n",
       "    <tr>\n",
       "      <th>0</th>\n",
       "      <td>2021-12-29 15:24:59</td>\n",
       "      <td>200</td>\n",
       "      <td>1773</td>\n",
       "      <td>view</td>\n",
       "      <td>0</td>\n",
       "    </tr>\n",
       "    <tr>\n",
       "      <th>1</th>\n",
       "      <td>2021-12-29 15:24:57</td>\n",
       "      <td>200</td>\n",
       "      <td>2213</td>\n",
       "      <td>like</td>\n",
       "      <td>0</td>\n",
       "    </tr>\n",
       "    <tr>\n",
       "      <th>2</th>\n",
       "      <td>2021-12-29 15:24:31</td>\n",
       "      <td>200</td>\n",
       "      <td>2213</td>\n",
       "      <td>view</td>\n",
       "      <td>1</td>\n",
       "    </tr>\n",
       "    <tr>\n",
       "      <th>3</th>\n",
       "      <td>2021-12-29 15:23:54</td>\n",
       "      <td>200</td>\n",
       "      <td>1122</td>\n",
       "      <td>view</td>\n",
       "      <td>0</td>\n",
       "    </tr>\n",
       "    <tr>\n",
       "      <th>4</th>\n",
       "      <td>2021-12-29 15:23:29</td>\n",
       "      <td>200</td>\n",
       "      <td>1362</td>\n",
       "      <td>view</td>\n",
       "      <td>0</td>\n",
       "    </tr>\n",
       "  </tbody>\n",
       "</table>\n",
       "</div>"
      ],
      "text/plain": [
       "             timestamp  user_id  post_id action  target\n",
       "0  2021-12-29 15:24:59      200     1773   view       0\n",
       "1  2021-12-29 15:24:57      200     2213   like       0\n",
       "2  2021-12-29 15:24:31      200     2213   view       1\n",
       "3  2021-12-29 15:23:54      200     1122   view       0\n",
       "4  2021-12-29 15:23:29      200     1362   view       0"
      ]
     },
     "execution_count": 5,
     "metadata": {},
     "output_type": "execute_result"
    }
   ],
   "source": [
    "feedback.head()"
   ]
  },
  {
   "cell_type": "code",
   "execution_count": 47,
   "metadata": {},
   "outputs": [
    {
     "data": {
      "text/plain": [
       "(4896150, 5)"
      ]
     },
     "execution_count": 47,
     "metadata": {},
     "output_type": "execute_result"
    }
   ],
   "source": [
    "feedback.shape"
   ]
  },
  {
   "cell_type": "code",
   "execution_count": 63,
   "metadata": {},
   "outputs": [
    {
     "data": {
      "text/plain": [
       "154073"
      ]
     },
     "execution_count": 63,
     "metadata": {},
     "output_type": "execute_result"
    }
   ],
   "source": [
    "len(feedback[feedback[\"action\"] == \"like\"][\"user_id\"].unique())"
   ]
  },
  {
   "cell_type": "code",
   "execution_count": 59,
   "metadata": {},
   "outputs": [],
   "source": [
    "# Удалим такие записи view, у которых есть дубликат, но с типом like. Так как из-за них модели сходят с ума, у нас есть две идентичные записи, но с разными таргетами\n",
    "# + при делений на обучающую и тестовую выборки нужно делать шафл, так как у нас датасет отсортирован по юзерам, модель не видит тестовых юзеров вообще.\n",
    "new_feed = feedback[:50000].copy()\n",
    "for row in new_feed[new_feed[\"action\"] == \"like\"].itertuples():\n",
    "    user_part = new_feed[(new_feed[\"user_id\"] == row.user_id) & (new_feed[\"post_id\"] == row.post_id)]\n",
    "    for index, n_row in user_part.iterrows():\n",
    "        if n_row.action == \"view\":\n",
    "            new_feed.drop(index, inplace=True)\n"
   ]
  },
  {
   "cell_type": "code",
   "execution_count": 60,
   "metadata": {},
   "outputs": [
    {
     "data": {
      "text/plain": [
       "(44612, 5)"
      ]
     },
     "execution_count": 60,
     "metadata": {},
     "output_type": "execute_result"
    }
   ],
   "source": [
    "new_feed.shape"
   ]
  },
  {
   "cell_type": "markdown",
   "metadata": {},
   "source": [
    "# for ML"
   ]
  },
  {
   "cell_type": "code",
   "execution_count": 13,
   "metadata": {},
   "outputs": [],
   "source": [
    "feedback = feedback.merge(posts).merge(users).sort_values(\"user_id\")"
   ]
  },
  {
   "cell_type": "code",
   "execution_count": 14,
   "metadata": {},
   "outputs": [
    {
     "data": {
      "text/html": [
       "<div>\n",
       "<style scoped>\n",
       "    .dataframe tbody tr th:only-of-type {\n",
       "        vertical-align: middle;\n",
       "    }\n",
       "\n",
       "    .dataframe tbody tr th {\n",
       "        vertical-align: top;\n",
       "    }\n",
       "\n",
       "    .dataframe thead th {\n",
       "        text-align: right;\n",
       "    }\n",
       "</style>\n",
       "<table border=\"1\" class=\"dataframe\">\n",
       "  <thead>\n",
       "    <tr style=\"text-align: right;\">\n",
       "      <th></th>\n",
       "      <th>timestamp</th>\n",
       "      <th>user_id</th>\n",
       "      <th>post_id</th>\n",
       "      <th>action</th>\n",
       "      <th>text</th>\n",
       "      <th>topic</th>\n",
       "      <th>gender</th>\n",
       "      <th>age</th>\n",
       "      <th>country</th>\n",
       "      <th>city</th>\n",
       "      <th>exp_group</th>\n",
       "      <th>os</th>\n",
       "      <th>source</th>\n",
       "    </tr>\n",
       "  </thead>\n",
       "  <tbody>\n",
       "    <tr>\n",
       "      <th>0</th>\n",
       "      <td>2021-12-29 15:24:59</td>\n",
       "      <td>200</td>\n",
       "      <td>1773</td>\n",
       "      <td>0</td>\n",
       "      <td>Hearts 2-1 Livingston\\n\\nHearts wrapped up the...</td>\n",
       "      <td>sport</td>\n",
       "      <td>1</td>\n",
       "      <td>34</td>\n",
       "      <td>Russia</td>\n",
       "      <td>Degtyarsk</td>\n",
       "      <td>3</td>\n",
       "      <td>Android</td>\n",
       "      <td>ads</td>\n",
       "    </tr>\n",
       "  </tbody>\n",
       "</table>\n",
       "</div>"
      ],
      "text/plain": [
       "            timestamp  user_id  post_id  action  \\\n",
       "0 2021-12-29 15:24:59      200     1773       0   \n",
       "\n",
       "                                                text  topic  gender  age  \\\n",
       "0  Hearts 2-1 Livingston\\n\\nHearts wrapped up the...  sport       1   34   \n",
       "\n",
       "  country       city  exp_group       os source  \n",
       "0  Russia  Degtyarsk          3  Android    ads  "
      ]
     },
     "execution_count": 14,
     "metadata": {},
     "output_type": "execute_result"
    }
   ],
   "source": [
    "feedback.head(1)"
   ]
  },
  {
   "cell_type": "code",
   "execution_count": 15,
   "metadata": {},
   "outputs": [
    {
     "ename": "KeyboardInterrupt",
     "evalue": "",
     "output_type": "error",
     "traceback": [
      "\u001b[1;31m---------------------------------------------------------------------------\u001b[0m",
      "\u001b[1;31mKeyboardInterrupt\u001b[0m                         Traceback (most recent call last)",
      "Cell \u001b[1;32mIn[15], line 1\u001b[0m\n\u001b[1;32m----> 1\u001b[0m \u001b[43mfeedback\u001b[49m\u001b[38;5;241;43m.\u001b[39;49m\u001b[43mto_csv\u001b[49m\u001b[43m(\u001b[49m\u001b[38;5;124;43m\"\u001b[39;49m\u001b[38;5;124;43mdata/full_data.csv\u001b[39;49m\u001b[38;5;124;43m\"\u001b[39;49m\u001b[43m)\u001b[49m\n",
      "File \u001b[1;32mc:\\Users\\ivana\\Desktop\\dev\\ml-engineering\\Notebook\\main_project\\venv\\lib\\site-packages\\pandas\\core\\generic.py:3551\u001b[0m, in \u001b[0;36mNDFrame.to_csv\u001b[1;34m(self, path_or_buf, sep, na_rep, float_format, columns, header, index, index_label, mode, encoding, compression, quoting, quotechar, line_terminator, chunksize, date_format, doublequote, escapechar, decimal, errors, storage_options)\u001b[0m\n\u001b[0;32m   3540\u001b[0m df \u001b[38;5;241m=\u001b[39m \u001b[38;5;28mself\u001b[39m \u001b[38;5;28;01mif\u001b[39;00m \u001b[38;5;28misinstance\u001b[39m(\u001b[38;5;28mself\u001b[39m, ABCDataFrame) \u001b[38;5;28;01melse\u001b[39;00m \u001b[38;5;28mself\u001b[39m\u001b[38;5;241m.\u001b[39mto_frame()\n\u001b[0;32m   3542\u001b[0m formatter \u001b[38;5;241m=\u001b[39m DataFrameFormatter(\n\u001b[0;32m   3543\u001b[0m     frame\u001b[38;5;241m=\u001b[39mdf,\n\u001b[0;32m   3544\u001b[0m     header\u001b[38;5;241m=\u001b[39mheader,\n\u001b[1;32m   (...)\u001b[0m\n\u001b[0;32m   3548\u001b[0m     decimal\u001b[38;5;241m=\u001b[39mdecimal,\n\u001b[0;32m   3549\u001b[0m )\n\u001b[1;32m-> 3551\u001b[0m \u001b[38;5;28;01mreturn\u001b[39;00m \u001b[43mDataFrameRenderer\u001b[49m\u001b[43m(\u001b[49m\u001b[43mformatter\u001b[49m\u001b[43m)\u001b[49m\u001b[38;5;241;43m.\u001b[39;49m\u001b[43mto_csv\u001b[49m\u001b[43m(\u001b[49m\n\u001b[0;32m   3552\u001b[0m \u001b[43m    \u001b[49m\u001b[43mpath_or_buf\u001b[49m\u001b[43m,\u001b[49m\n\u001b[0;32m   3553\u001b[0m \u001b[43m    \u001b[49m\u001b[43mline_terminator\u001b[49m\u001b[38;5;241;43m=\u001b[39;49m\u001b[43mline_terminator\u001b[49m\u001b[43m,\u001b[49m\n\u001b[0;32m   3554\u001b[0m \u001b[43m    \u001b[49m\u001b[43msep\u001b[49m\u001b[38;5;241;43m=\u001b[39;49m\u001b[43msep\u001b[49m\u001b[43m,\u001b[49m\n\u001b[0;32m   3555\u001b[0m \u001b[43m    \u001b[49m\u001b[43mencoding\u001b[49m\u001b[38;5;241;43m=\u001b[39;49m\u001b[43mencoding\u001b[49m\u001b[43m,\u001b[49m\n\u001b[0;32m   3556\u001b[0m \u001b[43m    \u001b[49m\u001b[43merrors\u001b[49m\u001b[38;5;241;43m=\u001b[39;49m\u001b[43merrors\u001b[49m\u001b[43m,\u001b[49m\n\u001b[0;32m   3557\u001b[0m \u001b[43m    \u001b[49m\u001b[43mcompression\u001b[49m\u001b[38;5;241;43m=\u001b[39;49m\u001b[43mcompression\u001b[49m\u001b[43m,\u001b[49m\n\u001b[0;32m   3558\u001b[0m \u001b[43m    \u001b[49m\u001b[43mquoting\u001b[49m\u001b[38;5;241;43m=\u001b[39;49m\u001b[43mquoting\u001b[49m\u001b[43m,\u001b[49m\n\u001b[0;32m   3559\u001b[0m \u001b[43m    \u001b[49m\u001b[43mcolumns\u001b[49m\u001b[38;5;241;43m=\u001b[39;49m\u001b[43mcolumns\u001b[49m\u001b[43m,\u001b[49m\n\u001b[0;32m   3560\u001b[0m \u001b[43m    \u001b[49m\u001b[43mindex_label\u001b[49m\u001b[38;5;241;43m=\u001b[39;49m\u001b[43mindex_label\u001b[49m\u001b[43m,\u001b[49m\n\u001b[0;32m   3561\u001b[0m \u001b[43m    \u001b[49m\u001b[43mmode\u001b[49m\u001b[38;5;241;43m=\u001b[39;49m\u001b[43mmode\u001b[49m\u001b[43m,\u001b[49m\n\u001b[0;32m   3562\u001b[0m \u001b[43m    \u001b[49m\u001b[43mchunksize\u001b[49m\u001b[38;5;241;43m=\u001b[39;49m\u001b[43mchunksize\u001b[49m\u001b[43m,\u001b[49m\n\u001b[0;32m   3563\u001b[0m \u001b[43m    \u001b[49m\u001b[43mquotechar\u001b[49m\u001b[38;5;241;43m=\u001b[39;49m\u001b[43mquotechar\u001b[49m\u001b[43m,\u001b[49m\n\u001b[0;32m   3564\u001b[0m \u001b[43m    \u001b[49m\u001b[43mdate_format\u001b[49m\u001b[38;5;241;43m=\u001b[39;49m\u001b[43mdate_format\u001b[49m\u001b[43m,\u001b[49m\n\u001b[0;32m   3565\u001b[0m \u001b[43m    \u001b[49m\u001b[43mdoublequote\u001b[49m\u001b[38;5;241;43m=\u001b[39;49m\u001b[43mdoublequote\u001b[49m\u001b[43m,\u001b[49m\n\u001b[0;32m   3566\u001b[0m \u001b[43m    \u001b[49m\u001b[43mescapechar\u001b[49m\u001b[38;5;241;43m=\u001b[39;49m\u001b[43mescapechar\u001b[49m\u001b[43m,\u001b[49m\n\u001b[0;32m   3567\u001b[0m \u001b[43m    \u001b[49m\u001b[43mstorage_options\u001b[49m\u001b[38;5;241;43m=\u001b[39;49m\u001b[43mstorage_options\u001b[49m\u001b[43m,\u001b[49m\n\u001b[0;32m   3568\u001b[0m \u001b[43m\u001b[49m\u001b[43m)\u001b[49m\n",
      "File \u001b[1;32mc:\\Users\\ivana\\Desktop\\dev\\ml-engineering\\Notebook\\main_project\\venv\\lib\\site-packages\\pandas\\io\\formats\\format.py:1180\u001b[0m, in \u001b[0;36mDataFrameRenderer.to_csv\u001b[1;34m(self, path_or_buf, encoding, sep, columns, index_label, mode, compression, quoting, quotechar, line_terminator, chunksize, date_format, doublequote, escapechar, errors, storage_options)\u001b[0m\n\u001b[0;32m   1159\u001b[0m     created_buffer \u001b[38;5;241m=\u001b[39m \u001b[38;5;28;01mFalse\u001b[39;00m\n\u001b[0;32m   1161\u001b[0m csv_formatter \u001b[38;5;241m=\u001b[39m CSVFormatter(\n\u001b[0;32m   1162\u001b[0m     path_or_buf\u001b[38;5;241m=\u001b[39mpath_or_buf,\n\u001b[0;32m   1163\u001b[0m     line_terminator\u001b[38;5;241m=\u001b[39mline_terminator,\n\u001b[1;32m   (...)\u001b[0m\n\u001b[0;32m   1178\u001b[0m     formatter\u001b[38;5;241m=\u001b[39m\u001b[38;5;28mself\u001b[39m\u001b[38;5;241m.\u001b[39mfmt,\n\u001b[0;32m   1179\u001b[0m )\n\u001b[1;32m-> 1180\u001b[0m \u001b[43mcsv_formatter\u001b[49m\u001b[38;5;241;43m.\u001b[39;49m\u001b[43msave\u001b[49m\u001b[43m(\u001b[49m\u001b[43m)\u001b[49m\n\u001b[0;32m   1182\u001b[0m \u001b[38;5;28;01mif\u001b[39;00m created_buffer:\n\u001b[0;32m   1183\u001b[0m     \u001b[38;5;28;01massert\u001b[39;00m \u001b[38;5;28misinstance\u001b[39m(path_or_buf, StringIO)\n",
      "File \u001b[1;32mc:\\Users\\ivana\\Desktop\\dev\\ml-engineering\\Notebook\\main_project\\venv\\lib\\site-packages\\pandas\\io\\formats\\csvs.py:261\u001b[0m, in \u001b[0;36mCSVFormatter.save\u001b[1;34m(self)\u001b[0m\n\u001b[0;32m    241\u001b[0m \u001b[38;5;28;01mwith\u001b[39;00m get_handle(\n\u001b[0;32m    242\u001b[0m     \u001b[38;5;28mself\u001b[39m\u001b[38;5;241m.\u001b[39mfilepath_or_buffer,\n\u001b[0;32m    243\u001b[0m     \u001b[38;5;28mself\u001b[39m\u001b[38;5;241m.\u001b[39mmode,\n\u001b[1;32m   (...)\u001b[0m\n\u001b[0;32m    249\u001b[0m \n\u001b[0;32m    250\u001b[0m     \u001b[38;5;66;03m# Note: self.encoding is irrelevant here\u001b[39;00m\n\u001b[0;32m    251\u001b[0m     \u001b[38;5;28mself\u001b[39m\u001b[38;5;241m.\u001b[39mwriter \u001b[38;5;241m=\u001b[39m csvlib\u001b[38;5;241m.\u001b[39mwriter(\n\u001b[0;32m    252\u001b[0m         handles\u001b[38;5;241m.\u001b[39mhandle,\n\u001b[0;32m    253\u001b[0m         lineterminator\u001b[38;5;241m=\u001b[39m\u001b[38;5;28mself\u001b[39m\u001b[38;5;241m.\u001b[39mline_terminator,\n\u001b[1;32m   (...)\u001b[0m\n\u001b[0;32m    258\u001b[0m         quotechar\u001b[38;5;241m=\u001b[39m\u001b[38;5;28mself\u001b[39m\u001b[38;5;241m.\u001b[39mquotechar,\n\u001b[0;32m    259\u001b[0m     )\n\u001b[1;32m--> 261\u001b[0m     \u001b[38;5;28;43mself\u001b[39;49m\u001b[38;5;241;43m.\u001b[39;49m\u001b[43m_save\u001b[49m\u001b[43m(\u001b[49m\u001b[43m)\u001b[49m\n",
      "File \u001b[1;32mc:\\Users\\ivana\\Desktop\\dev\\ml-engineering\\Notebook\\main_project\\venv\\lib\\site-packages\\pandas\\io\\formats\\csvs.py:266\u001b[0m, in \u001b[0;36mCSVFormatter._save\u001b[1;34m(self)\u001b[0m\n\u001b[0;32m    264\u001b[0m \u001b[38;5;28;01mif\u001b[39;00m \u001b[38;5;28mself\u001b[39m\u001b[38;5;241m.\u001b[39m_need_to_save_header:\n\u001b[0;32m    265\u001b[0m     \u001b[38;5;28mself\u001b[39m\u001b[38;5;241m.\u001b[39m_save_header()\n\u001b[1;32m--> 266\u001b[0m \u001b[38;5;28;43mself\u001b[39;49m\u001b[38;5;241;43m.\u001b[39;49m\u001b[43m_save_body\u001b[49m\u001b[43m(\u001b[49m\u001b[43m)\u001b[49m\n",
      "File \u001b[1;32mc:\\Users\\ivana\\Desktop\\dev\\ml-engineering\\Notebook\\main_project\\venv\\lib\\site-packages\\pandas\\io\\formats\\csvs.py:304\u001b[0m, in \u001b[0;36mCSVFormatter._save_body\u001b[1;34m(self)\u001b[0m\n\u001b[0;32m    302\u001b[0m \u001b[38;5;28;01mif\u001b[39;00m start_i \u001b[38;5;241m>\u001b[39m\u001b[38;5;241m=\u001b[39m end_i:\n\u001b[0;32m    303\u001b[0m     \u001b[38;5;28;01mbreak\u001b[39;00m\n\u001b[1;32m--> 304\u001b[0m \u001b[38;5;28;43mself\u001b[39;49m\u001b[38;5;241;43m.\u001b[39;49m\u001b[43m_save_chunk\u001b[49m\u001b[43m(\u001b[49m\u001b[43mstart_i\u001b[49m\u001b[43m,\u001b[49m\u001b[43m \u001b[49m\u001b[43mend_i\u001b[49m\u001b[43m)\u001b[49m\n",
      "File \u001b[1;32mc:\\Users\\ivana\\Desktop\\dev\\ml-engineering\\Notebook\\main_project\\venv\\lib\\site-packages\\pandas\\io\\formats\\csvs.py:315\u001b[0m, in \u001b[0;36mCSVFormatter._save_chunk\u001b[1;34m(self, start_i, end_i)\u001b[0m\n\u001b[0;32m    312\u001b[0m data \u001b[38;5;241m=\u001b[39m [res\u001b[38;5;241m.\u001b[39miget_values(i) \u001b[38;5;28;01mfor\u001b[39;00m i \u001b[38;5;129;01min\u001b[39;00m \u001b[38;5;28mrange\u001b[39m(\u001b[38;5;28mlen\u001b[39m(res\u001b[38;5;241m.\u001b[39mitems))]\n\u001b[0;32m    314\u001b[0m ix \u001b[38;5;241m=\u001b[39m \u001b[38;5;28mself\u001b[39m\u001b[38;5;241m.\u001b[39mdata_index[slicer]\u001b[38;5;241m.\u001b[39m_format_native_types(\u001b[38;5;241m*\u001b[39m\u001b[38;5;241m*\u001b[39m\u001b[38;5;28mself\u001b[39m\u001b[38;5;241m.\u001b[39m_number_format)\n\u001b[1;32m--> 315\u001b[0m \u001b[43mlibwriters\u001b[49m\u001b[38;5;241;43m.\u001b[39;49m\u001b[43mwrite_csv_rows\u001b[49m\u001b[43m(\u001b[49m\n\u001b[0;32m    316\u001b[0m \u001b[43m    \u001b[49m\u001b[43mdata\u001b[49m\u001b[43m,\u001b[49m\n\u001b[0;32m    317\u001b[0m \u001b[43m    \u001b[49m\u001b[43mix\u001b[49m\u001b[43m,\u001b[49m\n\u001b[0;32m    318\u001b[0m \u001b[43m    \u001b[49m\u001b[38;5;28;43mself\u001b[39;49m\u001b[38;5;241;43m.\u001b[39;49m\u001b[43mnlevels\u001b[49m\u001b[43m,\u001b[49m\n\u001b[0;32m    319\u001b[0m \u001b[43m    \u001b[49m\u001b[38;5;28;43mself\u001b[39;49m\u001b[38;5;241;43m.\u001b[39;49m\u001b[43mcols\u001b[49m\u001b[43m,\u001b[49m\n\u001b[0;32m    320\u001b[0m \u001b[43m    \u001b[49m\u001b[38;5;28;43mself\u001b[39;49m\u001b[38;5;241;43m.\u001b[39;49m\u001b[43mwriter\u001b[49m\u001b[43m,\u001b[49m\n\u001b[0;32m    321\u001b[0m \u001b[43m\u001b[49m\u001b[43m)\u001b[49m\n",
      "File \u001b[1;32mc:\\Users\\ivana\\Desktop\\dev\\ml-engineering\\Notebook\\main_project\\venv\\lib\\site-packages\\pandas\\_libs\\writers.pyx:55\u001b[0m, in \u001b[0;36mpandas._libs.writers.write_csv_rows\u001b[1;34m()\u001b[0m\n",
      "\u001b[1;31mKeyboardInterrupt\u001b[0m: "
     ]
    }
   ],
   "source": [
    "feedback.to_csv(\"data/full_data.csv\")"
   ]
  },
  {
   "cell_type": "code",
   "execution_count": 13,
   "metadata": {},
   "outputs": [],
   "source": [
    "feedback.drop([\"timestamp\"], axis=1, inplace=True)"
   ]
  },
  {
   "cell_type": "code",
   "execution_count": 14,
   "metadata": {},
   "outputs": [
    {
     "data": {
      "text/html": [
       "<div>\n",
       "<style scoped>\n",
       "    .dataframe tbody tr th:only-of-type {\n",
       "        vertical-align: middle;\n",
       "    }\n",
       "\n",
       "    .dataframe tbody tr th {\n",
       "        vertical-align: top;\n",
       "    }\n",
       "\n",
       "    .dataframe thead th {\n",
       "        text-align: right;\n",
       "    }\n",
       "</style>\n",
       "<table border=\"1\" class=\"dataframe\">\n",
       "  <thead>\n",
       "    <tr style=\"text-align: right;\">\n",
       "      <th></th>\n",
       "      <th>user_id</th>\n",
       "      <th>post_id</th>\n",
       "      <th>action</th>\n",
       "      <th>text</th>\n",
       "      <th>topic</th>\n",
       "      <th>gender</th>\n",
       "      <th>age</th>\n",
       "      <th>country</th>\n",
       "      <th>city</th>\n",
       "      <th>exp_group</th>\n",
       "      <th>os</th>\n",
       "      <th>source</th>\n",
       "    </tr>\n",
       "  </thead>\n",
       "  <tbody>\n",
       "    <tr>\n",
       "      <th>0</th>\n",
       "      <td>200</td>\n",
       "      <td>1773</td>\n",
       "      <td>0</td>\n",
       "      <td>Hearts 2-1 Livingston\\n\\nHearts wrapped up the...</td>\n",
       "      <td>sport</td>\n",
       "      <td>1</td>\n",
       "      <td>34</td>\n",
       "      <td>Russia</td>\n",
       "      <td>Degtyarsk</td>\n",
       "      <td>3</td>\n",
       "      <td>Android</td>\n",
       "      <td>ads</td>\n",
       "    </tr>\n",
       "  </tbody>\n",
       "</table>\n",
       "</div>"
      ],
      "text/plain": [
       "   user_id  post_id  action  \\\n",
       "0      200     1773       0   \n",
       "\n",
       "                                                text  topic  gender  age  \\\n",
       "0  Hearts 2-1 Livingston\\n\\nHearts wrapped up the...  sport       1   34   \n",
       "\n",
       "  country       city  exp_group       os source  \n",
       "0  Russia  Degtyarsk          3  Android    ads  "
      ]
     },
     "execution_count": 14,
     "metadata": {},
     "output_type": "execute_result"
    }
   ],
   "source": [
    "feedback.head(1)"
   ]
  },
  {
   "cell_type": "code",
   "execution_count": 15,
   "metadata": {},
   "outputs": [],
   "source": [
    "feedback[\"k_words\"] = feedback[\"text\"].apply(lambda x: len(x.replace(\"\\n\", \" \").split(\" \")))"
   ]
  },
  {
   "cell_type": "code",
   "execution_count": 16,
   "metadata": {},
   "outputs": [],
   "source": [
    "feedback.drop([\"text\"], axis=1, inplace=True)"
   ]
  },
  {
   "cell_type": "code",
   "execution_count": 17,
   "metadata": {},
   "outputs": [
    {
     "data": {
      "text/html": [
       "<div>\n",
       "<style scoped>\n",
       "    .dataframe tbody tr th:only-of-type {\n",
       "        vertical-align: middle;\n",
       "    }\n",
       "\n",
       "    .dataframe tbody tr th {\n",
       "        vertical-align: top;\n",
       "    }\n",
       "\n",
       "    .dataframe thead th {\n",
       "        text-align: right;\n",
       "    }\n",
       "</style>\n",
       "<table border=\"1\" class=\"dataframe\">\n",
       "  <thead>\n",
       "    <tr style=\"text-align: right;\">\n",
       "      <th></th>\n",
       "      <th>user_id</th>\n",
       "      <th>post_id</th>\n",
       "      <th>action</th>\n",
       "      <th>topic</th>\n",
       "      <th>gender</th>\n",
       "      <th>age</th>\n",
       "      <th>country</th>\n",
       "      <th>city</th>\n",
       "      <th>exp_group</th>\n",
       "      <th>os</th>\n",
       "      <th>source</th>\n",
       "      <th>k_words</th>\n",
       "    </tr>\n",
       "  </thead>\n",
       "  <tbody>\n",
       "    <tr>\n",
       "      <th>0</th>\n",
       "      <td>200</td>\n",
       "      <td>1773</td>\n",
       "      <td>0</td>\n",
       "      <td>sport</td>\n",
       "      <td>1</td>\n",
       "      <td>34</td>\n",
       "      <td>Russia</td>\n",
       "      <td>Degtyarsk</td>\n",
       "      <td>3</td>\n",
       "      <td>Android</td>\n",
       "      <td>ads</td>\n",
       "      <td>449</td>\n",
       "    </tr>\n",
       "  </tbody>\n",
       "</table>\n",
       "</div>"
      ],
      "text/plain": [
       "   user_id  post_id  action  topic  gender  age country       city  exp_group  \\\n",
       "0      200     1773       0  sport       1   34  Russia  Degtyarsk          3   \n",
       "\n",
       "        os source  k_words  \n",
       "0  Android    ads      449  "
      ]
     },
     "execution_count": 17,
     "metadata": {},
     "output_type": "execute_result"
    }
   ],
   "source": [
    "feedback.head(1)"
   ]
  },
  {
   "cell_type": "code",
   "execution_count": 18,
   "metadata": {},
   "outputs": [],
   "source": [
    "encoded_feedback = feedback.copy()\n",
    "for col in [\"topic\", \"country\", \"exp_group\", \"os\", \"source\"]:\n",
    "    one_hot = pd.get_dummies(encoded_feedback[col], prefix=col, drop_first=True).astype(int)\n",
    "    encoded_feedback = pd.concat((encoded_feedback.drop(col, axis=1), one_hot), axis=1)"
   ]
  },
  {
   "cell_type": "code",
   "execution_count": 19,
   "metadata": {},
   "outputs": [
    {
     "data": {
      "text/html": [
       "<div>\n",
       "<style scoped>\n",
       "    .dataframe tbody tr th:only-of-type {\n",
       "        vertical-align: middle;\n",
       "    }\n",
       "\n",
       "    .dataframe tbody tr th {\n",
       "        vertical-align: top;\n",
       "    }\n",
       "\n",
       "    .dataframe thead th {\n",
       "        text-align: right;\n",
       "    }\n",
       "</style>\n",
       "<table border=\"1\" class=\"dataframe\">\n",
       "  <thead>\n",
       "    <tr style=\"text-align: right;\">\n",
       "      <th></th>\n",
       "      <th>user_id</th>\n",
       "      <th>post_id</th>\n",
       "      <th>action</th>\n",
       "      <th>gender</th>\n",
       "      <th>age</th>\n",
       "      <th>k_words</th>\n",
       "      <th>topic_covid</th>\n",
       "      <th>topic_entertainment</th>\n",
       "      <th>topic_movie</th>\n",
       "      <th>topic_politics</th>\n",
       "      <th>...</th>\n",
       "      <th>country_Russia</th>\n",
       "      <th>country_Switzerland</th>\n",
       "      <th>country_Turkey</th>\n",
       "      <th>country_Ukraine</th>\n",
       "      <th>exp_group_1</th>\n",
       "      <th>exp_group_2</th>\n",
       "      <th>exp_group_3</th>\n",
       "      <th>exp_group_4</th>\n",
       "      <th>os_iOS</th>\n",
       "      <th>source_organic</th>\n",
       "    </tr>\n",
       "  </thead>\n",
       "  <tbody>\n",
       "    <tr>\n",
       "      <th>0</th>\n",
       "      <td>200</td>\n",
       "      <td>1773</td>\n",
       "      <td>0</td>\n",
       "      <td>1</td>\n",
       "      <td>34</td>\n",
       "      <td>449</td>\n",
       "      <td>0</td>\n",
       "      <td>0</td>\n",
       "      <td>0</td>\n",
       "      <td>0</td>\n",
       "      <td>...</td>\n",
       "      <td>1</td>\n",
       "      <td>0</td>\n",
       "      <td>0</td>\n",
       "      <td>0</td>\n",
       "      <td>0</td>\n",
       "      <td>0</td>\n",
       "      <td>1</td>\n",
       "      <td>0</td>\n",
       "      <td>0</td>\n",
       "      <td>0</td>\n",
       "    </tr>\n",
       "    <tr>\n",
       "      <th>17</th>\n",
       "      <td>200</td>\n",
       "      <td>4723</td>\n",
       "      <td>1</td>\n",
       "      <td>1</td>\n",
       "      <td>34</td>\n",
       "      <td>352</td>\n",
       "      <td>0</td>\n",
       "      <td>0</td>\n",
       "      <td>1</td>\n",
       "      <td>0</td>\n",
       "      <td>...</td>\n",
       "      <td>1</td>\n",
       "      <td>0</td>\n",
       "      <td>0</td>\n",
       "      <td>0</td>\n",
       "      <td>0</td>\n",
       "      <td>0</td>\n",
       "      <td>1</td>\n",
       "      <td>0</td>\n",
       "      <td>0</td>\n",
       "      <td>0</td>\n",
       "    </tr>\n",
       "    <tr>\n",
       "      <th>16</th>\n",
       "      <td>200</td>\n",
       "      <td>994</td>\n",
       "      <td>1</td>\n",
       "      <td>1</td>\n",
       "      <td>34</td>\n",
       "      <td>445</td>\n",
       "      <td>0</td>\n",
       "      <td>0</td>\n",
       "      <td>0</td>\n",
       "      <td>1</td>\n",
       "      <td>...</td>\n",
       "      <td>1</td>\n",
       "      <td>0</td>\n",
       "      <td>0</td>\n",
       "      <td>0</td>\n",
       "      <td>0</td>\n",
       "      <td>0</td>\n",
       "      <td>1</td>\n",
       "      <td>0</td>\n",
       "      <td>0</td>\n",
       "      <td>0</td>\n",
       "    </tr>\n",
       "    <tr>\n",
       "      <th>15</th>\n",
       "      <td>200</td>\n",
       "      <td>3567</td>\n",
       "      <td>1</td>\n",
       "      <td>1</td>\n",
       "      <td>34</td>\n",
       "      <td>26</td>\n",
       "      <td>1</td>\n",
       "      <td>0</td>\n",
       "      <td>0</td>\n",
       "      <td>0</td>\n",
       "      <td>...</td>\n",
       "      <td>1</td>\n",
       "      <td>0</td>\n",
       "      <td>0</td>\n",
       "      <td>0</td>\n",
       "      <td>0</td>\n",
       "      <td>0</td>\n",
       "      <td>1</td>\n",
       "      <td>0</td>\n",
       "      <td>0</td>\n",
       "      <td>0</td>\n",
       "    </tr>\n",
       "    <tr>\n",
       "      <th>14</th>\n",
       "      <td>200</td>\n",
       "      <td>7143</td>\n",
       "      <td>1</td>\n",
       "      <td>1</td>\n",
       "      <td>34</td>\n",
       "      <td>111</td>\n",
       "      <td>0</td>\n",
       "      <td>0</td>\n",
       "      <td>1</td>\n",
       "      <td>0</td>\n",
       "      <td>...</td>\n",
       "      <td>1</td>\n",
       "      <td>0</td>\n",
       "      <td>0</td>\n",
       "      <td>0</td>\n",
       "      <td>0</td>\n",
       "      <td>0</td>\n",
       "      <td>1</td>\n",
       "      <td>0</td>\n",
       "      <td>0</td>\n",
       "      <td>0</td>\n",
       "    </tr>\n",
       "  </tbody>\n",
       "</table>\n",
       "<p>5 rows × 28 columns</p>\n",
       "</div>"
      ],
      "text/plain": [
       "    user_id  post_id  action  gender  age  k_words  topic_covid  \\\n",
       "0       200     1773       0       1   34      449            0   \n",
       "17      200     4723       1       1   34      352            0   \n",
       "16      200      994       1       1   34      445            0   \n",
       "15      200     3567       1       1   34       26            1   \n",
       "14      200     7143       1       1   34      111            0   \n",
       "\n",
       "    topic_entertainment  topic_movie  topic_politics  ...  country_Russia  \\\n",
       "0                     0            0               0  ...               1   \n",
       "17                    0            1               0  ...               1   \n",
       "16                    0            0               1  ...               1   \n",
       "15                    0            0               0  ...               1   \n",
       "14                    0            1               0  ...               1   \n",
       "\n",
       "    country_Switzerland  country_Turkey  country_Ukraine  exp_group_1  \\\n",
       "0                     0               0                0            0   \n",
       "17                    0               0                0            0   \n",
       "16                    0               0                0            0   \n",
       "15                    0               0                0            0   \n",
       "14                    0               0                0            0   \n",
       "\n",
       "    exp_group_2  exp_group_3  exp_group_4  os_iOS  source_organic  \n",
       "0             0            1            0       0               0  \n",
       "17            0            1            0       0               0  \n",
       "16            0            1            0       0               0  \n",
       "15            0            1            0       0               0  \n",
       "14            0            1            0       0               0  \n",
       "\n",
       "[5 rows x 28 columns]"
      ]
     },
     "execution_count": 19,
     "metadata": {},
     "output_type": "execute_result"
    }
   ],
   "source": [
    "encoded_feedback.drop([\"city\"], axis=1, inplace=True)\n",
    "encoded_feedback.head()"
   ]
  },
  {
   "cell_type": "code",
   "execution_count": 26,
   "metadata": {},
   "outputs": [],
   "source": [
    "feedback.to_csv(\"new_feed_back.csv\", sep=\",\", index=False)"
   ]
  },
  {
   "cell_type": "code",
   "execution_count": 5,
   "metadata": {},
   "outputs": [],
   "source": [
    "# X = encoded_feedback.drop([\"action\"], axis=1)\n",
    "# y = encoded_feedback[\"action\"]\n",
    "feedback = pd.read_csv(\"data/new_feed_back.csv\", sep=\",\")\n",
    "X = feedback.drop([\"action\"], axis=1)\n",
    "y = feedback[\"action\"]"
   ]
  },
  {
   "cell_type": "code",
   "execution_count": 6,
   "metadata": {},
   "outputs": [],
   "source": [
    "from sklearn.model_selection import train_test_split\n",
    "\n",
    "X_train, X_test, y_train, y_test = train_test_split(X, y, shuffle=True, test_size=0.15, random_state=32)"
   ]
  },
  {
   "cell_type": "markdown",
   "metadata": {},
   "source": [
    "# Catboost"
   ]
  },
  {
   "cell_type": "code",
   "execution_count": 67,
   "metadata": {},
   "outputs": [],
   "source": [
    "res_posts = posts.copy()"
   ]
  },
  {
   "cell_type": "code",
   "execution_count": 68,
   "metadata": {},
   "outputs": [
    {
     "name": "stderr",
     "output_type": "stream",
     "text": [
      "C:\\Users\\ivana\\AppData\\Local\\Temp\\ipykernel_12888\\2720941670.py:3: SettingWithCopyWarning: \n",
      "A value is trying to be set on a copy of a slice from a DataFrame.\n",
      "Try using .loc[row_indexer,col_indexer] = value instead\n",
      "\n",
      "See the caveats in the documentation: https://pandas.pydata.org/pandas-docs/stable/user_guide/indexing.html#returning-a-view-versus-a-copy\n",
      "  req_user[\"key\"] = 0\n"
     ]
    },
    {
     "data": {
      "text/html": [
       "<div>\n",
       "<style scoped>\n",
       "    .dataframe tbody tr th:only-of-type {\n",
       "        vertical-align: middle;\n",
       "    }\n",
       "\n",
       "    .dataframe tbody tr th {\n",
       "        vertical-align: top;\n",
       "    }\n",
       "\n",
       "    .dataframe thead th {\n",
       "        text-align: right;\n",
       "    }\n",
       "</style>\n",
       "<table border=\"1\" class=\"dataframe\">\n",
       "  <thead>\n",
       "    <tr style=\"text-align: right;\">\n",
       "      <th></th>\n",
       "      <th>post_id</th>\n",
       "      <th>text</th>\n",
       "      <th>topic</th>\n",
       "      <th>user_id</th>\n",
       "      <th>gender</th>\n",
       "      <th>age</th>\n",
       "      <th>country</th>\n",
       "      <th>city</th>\n",
       "      <th>exp_group</th>\n",
       "      <th>os</th>\n",
       "      <th>source</th>\n",
       "    </tr>\n",
       "  </thead>\n",
       "  <tbody>\n",
       "    <tr>\n",
       "      <th>0</th>\n",
       "      <td>1</td>\n",
       "      <td>UK economy facing major risks\\n\\nThe UK manufa...</td>\n",
       "      <td>business</td>\n",
       "      <td>200</td>\n",
       "      <td>1</td>\n",
       "      <td>34</td>\n",
       "      <td>Russia</td>\n",
       "      <td>Degtyarsk</td>\n",
       "      <td>3</td>\n",
       "      <td>Android</td>\n",
       "      <td>ads</td>\n",
       "    </tr>\n",
       "    <tr>\n",
       "      <th>1</th>\n",
       "      <td>2</td>\n",
       "      <td>Aids and climate top Davos agenda\\n\\nClimate c...</td>\n",
       "      <td>business</td>\n",
       "      <td>200</td>\n",
       "      <td>1</td>\n",
       "      <td>34</td>\n",
       "      <td>Russia</td>\n",
       "      <td>Degtyarsk</td>\n",
       "      <td>3</td>\n",
       "      <td>Android</td>\n",
       "      <td>ads</td>\n",
       "    </tr>\n",
       "    <tr>\n",
       "      <th>2</th>\n",
       "      <td>3</td>\n",
       "      <td>Asian quake hits European shares\\n\\nShares in ...</td>\n",
       "      <td>business</td>\n",
       "      <td>200</td>\n",
       "      <td>1</td>\n",
       "      <td>34</td>\n",
       "      <td>Russia</td>\n",
       "      <td>Degtyarsk</td>\n",
       "      <td>3</td>\n",
       "      <td>Android</td>\n",
       "      <td>ads</td>\n",
       "    </tr>\n",
       "    <tr>\n",
       "      <th>3</th>\n",
       "      <td>4</td>\n",
       "      <td>India power shares jump on debut\\n\\nShares in ...</td>\n",
       "      <td>business</td>\n",
       "      <td>200</td>\n",
       "      <td>1</td>\n",
       "      <td>34</td>\n",
       "      <td>Russia</td>\n",
       "      <td>Degtyarsk</td>\n",
       "      <td>3</td>\n",
       "      <td>Android</td>\n",
       "      <td>ads</td>\n",
       "    </tr>\n",
       "    <tr>\n",
       "      <th>4</th>\n",
       "      <td>5</td>\n",
       "      <td>Lacroix label bought by US firm\\n\\nLuxury good...</td>\n",
       "      <td>business</td>\n",
       "      <td>200</td>\n",
       "      <td>1</td>\n",
       "      <td>34</td>\n",
       "      <td>Russia</td>\n",
       "      <td>Degtyarsk</td>\n",
       "      <td>3</td>\n",
       "      <td>Android</td>\n",
       "      <td>ads</td>\n",
       "    </tr>\n",
       "    <tr>\n",
       "      <th>...</th>\n",
       "      <td>...</td>\n",
       "      <td>...</td>\n",
       "      <td>...</td>\n",
       "      <td>...</td>\n",
       "      <td>...</td>\n",
       "      <td>...</td>\n",
       "      <td>...</td>\n",
       "      <td>...</td>\n",
       "      <td>...</td>\n",
       "      <td>...</td>\n",
       "      <td>...</td>\n",
       "    </tr>\n",
       "    <tr>\n",
       "      <th>7018</th>\n",
       "      <td>7315</td>\n",
       "      <td>OK, I would not normally watch a Farrelly brot...</td>\n",
       "      <td>movie</td>\n",
       "      <td>200</td>\n",
       "      <td>1</td>\n",
       "      <td>34</td>\n",
       "      <td>Russia</td>\n",
       "      <td>Degtyarsk</td>\n",
       "      <td>3</td>\n",
       "      <td>Android</td>\n",
       "      <td>ads</td>\n",
       "    </tr>\n",
       "    <tr>\n",
       "      <th>7019</th>\n",
       "      <td>7316</td>\n",
       "      <td>I give this movie 2 stars purely because of it...</td>\n",
       "      <td>movie</td>\n",
       "      <td>200</td>\n",
       "      <td>1</td>\n",
       "      <td>34</td>\n",
       "      <td>Russia</td>\n",
       "      <td>Degtyarsk</td>\n",
       "      <td>3</td>\n",
       "      <td>Android</td>\n",
       "      <td>ads</td>\n",
       "    </tr>\n",
       "    <tr>\n",
       "      <th>7020</th>\n",
       "      <td>7317</td>\n",
       "      <td>I cant believe this film was allowed to be mad...</td>\n",
       "      <td>movie</td>\n",
       "      <td>200</td>\n",
       "      <td>1</td>\n",
       "      <td>34</td>\n",
       "      <td>Russia</td>\n",
       "      <td>Degtyarsk</td>\n",
       "      <td>3</td>\n",
       "      <td>Android</td>\n",
       "      <td>ads</td>\n",
       "    </tr>\n",
       "    <tr>\n",
       "      <th>7021</th>\n",
       "      <td>7318</td>\n",
       "      <td>The version I saw of this film was the Blockbu...</td>\n",
       "      <td>movie</td>\n",
       "      <td>200</td>\n",
       "      <td>1</td>\n",
       "      <td>34</td>\n",
       "      <td>Russia</td>\n",
       "      <td>Degtyarsk</td>\n",
       "      <td>3</td>\n",
       "      <td>Android</td>\n",
       "      <td>ads</td>\n",
       "    </tr>\n",
       "    <tr>\n",
       "      <th>7022</th>\n",
       "      <td>7319</td>\n",
       "      <td>Piece of subtle art. Maybe a masterpiece. Doub...</td>\n",
       "      <td>movie</td>\n",
       "      <td>200</td>\n",
       "      <td>1</td>\n",
       "      <td>34</td>\n",
       "      <td>Russia</td>\n",
       "      <td>Degtyarsk</td>\n",
       "      <td>3</td>\n",
       "      <td>Android</td>\n",
       "      <td>ads</td>\n",
       "    </tr>\n",
       "  </tbody>\n",
       "</table>\n",
       "<p>7023 rows × 11 columns</p>\n",
       "</div>"
      ],
      "text/plain": [
       "      post_id                                               text     topic  \\\n",
       "0           1  UK economy facing major risks\\n\\nThe UK manufa...  business   \n",
       "1           2  Aids and climate top Davos agenda\\n\\nClimate c...  business   \n",
       "2           3  Asian quake hits European shares\\n\\nShares in ...  business   \n",
       "3           4  India power shares jump on debut\\n\\nShares in ...  business   \n",
       "4           5  Lacroix label bought by US firm\\n\\nLuxury good...  business   \n",
       "...       ...                                                ...       ...   \n",
       "7018     7315  OK, I would not normally watch a Farrelly brot...     movie   \n",
       "7019     7316  I give this movie 2 stars purely because of it...     movie   \n",
       "7020     7317  I cant believe this film was allowed to be mad...     movie   \n",
       "7021     7318  The version I saw of this film was the Blockbu...     movie   \n",
       "7022     7319  Piece of subtle art. Maybe a masterpiece. Doub...     movie   \n",
       "\n",
       "      user_id  gender  age country       city  exp_group       os source  \n",
       "0         200       1   34  Russia  Degtyarsk          3  Android    ads  \n",
       "1         200       1   34  Russia  Degtyarsk          3  Android    ads  \n",
       "2         200       1   34  Russia  Degtyarsk          3  Android    ads  \n",
       "3         200       1   34  Russia  Degtyarsk          3  Android    ads  \n",
       "4         200       1   34  Russia  Degtyarsk          3  Android    ads  \n",
       "...       ...     ...  ...     ...        ...        ...      ...    ...  \n",
       "7018      200       1   34  Russia  Degtyarsk          3  Android    ads  \n",
       "7019      200       1   34  Russia  Degtyarsk          3  Android    ads  \n",
       "7020      200       1   34  Russia  Degtyarsk          3  Android    ads  \n",
       "7021      200       1   34  Russia  Degtyarsk          3  Android    ads  \n",
       "7022      200       1   34  Russia  Degtyarsk          3  Android    ads  \n",
       "\n",
       "[7023 rows x 11 columns]"
      ]
     },
     "execution_count": 68,
     "metadata": {},
     "output_type": "execute_result"
    }
   ],
   "source": [
    "req_user = users[users[\"user_id\"] == 200]\n",
    "\n",
    "req_user[\"key\"] = 0\n",
    "res_posts[\"key\"] = 0\n",
    "\n",
    "pd.merge(res_posts, req_user, on='key').drop('key', axis=1)"
   ]
  },
  {
   "cell_type": "code",
   "execution_count": 2,
   "metadata": {},
   "outputs": [],
   "source": [
    "from catboost import CatBoostClassifier"
   ]
  },
  {
   "cell_type": "code",
   "execution_count": 29,
   "metadata": {},
   "outputs": [
    {
     "name": "stdout",
     "output_type": "stream",
     "text": [
      "0:\tlearn: 0.6857634\ttotal: 768ms\tremaining: 1m 16s\n",
      "1:\tlearn: 0.6845831\ttotal: 1.58s\tremaining: 1m 17s\n",
      "2:\tlearn: 0.6836716\ttotal: 2.19s\tremaining: 1m 10s\n",
      "3:\tlearn: 0.6828894\ttotal: 2.79s\tremaining: 1m 6s\n",
      "4:\tlearn: 0.6822541\ttotal: 3.3s\tremaining: 1m 2s\n",
      "5:\tlearn: 0.6813594\ttotal: 3.78s\tremaining: 59.3s\n",
      "6:\tlearn: 0.6808519\ttotal: 4.26s\tremaining: 56.6s\n",
      "7:\tlearn: 0.6742528\ttotal: 4.73s\tremaining: 54.4s\n",
      "8:\tlearn: 0.6733138\ttotal: 5.23s\tremaining: 52.9s\n",
      "9:\tlearn: 0.6681180\ttotal: 5.74s\tremaining: 51.7s\n",
      "10:\tlearn: 0.6674696\ttotal: 6.21s\tremaining: 50.3s\n",
      "11:\tlearn: 0.6668603\ttotal: 6.67s\tremaining: 48.9s\n",
      "12:\tlearn: 0.6628007\ttotal: 7.15s\tremaining: 47.9s\n",
      "13:\tlearn: 0.6600213\ttotal: 7.64s\tremaining: 47s\n",
      "14:\tlearn: 0.6573271\ttotal: 8.18s\tremaining: 46.3s\n",
      "15:\tlearn: 0.6545398\ttotal: 8.66s\tremaining: 45.5s\n",
      "16:\tlearn: 0.6540365\ttotal: 9.14s\tremaining: 44.6s\n",
      "17:\tlearn: 0.6531679\ttotal: 9.95s\tremaining: 45.3s\n",
      "18:\tlearn: 0.6527799\ttotal: 10.6s\tremaining: 45s\n",
      "19:\tlearn: 0.6525660\ttotal: 11.1s\tremaining: 44.2s\n",
      "20:\tlearn: 0.6522572\ttotal: 11.5s\tremaining: 43.4s\n",
      "21:\tlearn: 0.6521366\ttotal: 12.1s\tremaining: 42.9s\n",
      "22:\tlearn: 0.6493705\ttotal: 12.6s\tremaining: 42.1s\n",
      "23:\tlearn: 0.6492007\ttotal: 13.1s\tremaining: 41.4s\n",
      "24:\tlearn: 0.6489528\ttotal: 13.6s\tremaining: 40.7s\n",
      "25:\tlearn: 0.6478896\ttotal: 14.1s\tremaining: 40s\n",
      "26:\tlearn: 0.6470216\ttotal: 14.5s\tremaining: 39.3s\n",
      "27:\tlearn: 0.6463369\ttotal: 15s\tremaining: 38.6s\n",
      "28:\tlearn: 0.6450050\ttotal: 15.5s\tremaining: 37.9s\n",
      "29:\tlearn: 0.6448197\ttotal: 16s\tremaining: 37.4s\n",
      "30:\tlearn: 0.6447632\ttotal: 16.5s\tremaining: 36.7s\n",
      "31:\tlearn: 0.6445364\ttotal: 17s\tremaining: 36.1s\n",
      "32:\tlearn: 0.6443186\ttotal: 17.4s\tremaining: 35.4s\n",
      "33:\tlearn: 0.6442718\ttotal: 18s\tremaining: 34.9s\n",
      "34:\tlearn: 0.6442043\ttotal: 18.5s\tremaining: 34.3s\n",
      "35:\tlearn: 0.6441677\ttotal: 19.2s\tremaining: 34.1s\n",
      "36:\tlearn: 0.6441334\ttotal: 19.8s\tremaining: 33.7s\n",
      "37:\tlearn: 0.6421518\ttotal: 20.3s\tremaining: 33.1s\n",
      "38:\tlearn: 0.6414650\ttotal: 20.7s\tremaining: 32.4s\n",
      "39:\tlearn: 0.6414382\ttotal: 21.2s\tremaining: 31.8s\n",
      "40:\tlearn: 0.6402829\ttotal: 21.7s\tremaining: 31.2s\n",
      "41:\tlearn: 0.6400875\ttotal: 22.1s\tremaining: 30.5s\n",
      "42:\tlearn: 0.6399480\ttotal: 22.5s\tremaining: 29.9s\n",
      "43:\tlearn: 0.6399013\ttotal: 23s\tremaining: 29.3s\n",
      "44:\tlearn: 0.6389382\ttotal: 23.5s\tremaining: 28.7s\n",
      "45:\tlearn: 0.6381551\ttotal: 23.9s\tremaining: 28.1s\n",
      "46:\tlearn: 0.6380997\ttotal: 24.4s\tremaining: 27.5s\n",
      "47:\tlearn: 0.6380733\ttotal: 24.8s\tremaining: 26.9s\n",
      "48:\tlearn: 0.6380520\ttotal: 25.3s\tremaining: 26.3s\n",
      "49:\tlearn: 0.6363926\ttotal: 25.8s\tremaining: 25.8s\n",
      "50:\tlearn: 0.6357041\ttotal: 26.3s\tremaining: 25.2s\n",
      "51:\tlearn: 0.6342278\ttotal: 26.7s\tremaining: 24.7s\n",
      "52:\tlearn: 0.6336254\ttotal: 27.2s\tremaining: 24.1s\n",
      "53:\tlearn: 0.6334761\ttotal: 27.7s\tremaining: 23.6s\n",
      "54:\tlearn: 0.6333403\ttotal: 28.1s\tremaining: 23s\n",
      "55:\tlearn: 0.6320636\ttotal: 28.6s\tremaining: 22.5s\n",
      "56:\tlearn: 0.6318519\ttotal: 29.2s\tremaining: 22s\n",
      "57:\tlearn: 0.6318319\ttotal: 29.7s\tremaining: 21.5s\n",
      "58:\tlearn: 0.6307843\ttotal: 30.3s\tremaining: 21s\n",
      "59:\tlearn: 0.6305834\ttotal: 30.8s\tremaining: 20.5s\n",
      "60:\tlearn: 0.6300591\ttotal: 31.4s\tremaining: 20.1s\n",
      "61:\tlearn: 0.6299411\ttotal: 32.1s\tremaining: 19.7s\n",
      "62:\tlearn: 0.6288300\ttotal: 32.6s\tremaining: 19.2s\n",
      "63:\tlearn: 0.6286626\ttotal: 33.2s\tremaining: 18.7s\n",
      "64:\tlearn: 0.6284767\ttotal: 33.8s\tremaining: 18.2s\n",
      "65:\tlearn: 0.6275849\ttotal: 34.3s\tremaining: 17.7s\n",
      "66:\tlearn: 0.6271262\ttotal: 34.8s\tremaining: 17.1s\n",
      "67:\tlearn: 0.6271039\ttotal: 35.3s\tremaining: 16.6s\n",
      "68:\tlearn: 0.6268351\ttotal: 35.9s\tremaining: 16.1s\n",
      "69:\tlearn: 0.6264538\ttotal: 36.4s\tremaining: 15.6s\n",
      "70:\tlearn: 0.6263195\ttotal: 37s\tremaining: 15.1s\n",
      "71:\tlearn: 0.6263011\ttotal: 37.5s\tremaining: 14.6s\n",
      "72:\tlearn: 0.6260780\ttotal: 38s\tremaining: 14.1s\n",
      "73:\tlearn: 0.6259509\ttotal: 38.5s\tremaining: 13.5s\n",
      "74:\tlearn: 0.6258995\ttotal: 39.1s\tremaining: 13s\n",
      "75:\tlearn: 0.6258595\ttotal: 39.7s\tremaining: 12.5s\n",
      "76:\tlearn: 0.6250778\ttotal: 40.2s\tremaining: 12s\n",
      "77:\tlearn: 0.6247410\ttotal: 40.7s\tremaining: 11.5s\n",
      "78:\tlearn: 0.6242838\ttotal: 41.2s\tremaining: 11s\n",
      "79:\tlearn: 0.6242702\ttotal: 41.8s\tremaining: 10.5s\n",
      "80:\tlearn: 0.6242140\ttotal: 42.4s\tremaining: 9.95s\n",
      "81:\tlearn: 0.6241136\ttotal: 43s\tremaining: 9.44s\n",
      "82:\tlearn: 0.6238121\ttotal: 43.6s\tremaining: 8.93s\n",
      "83:\tlearn: 0.6232048\ttotal: 44.2s\tremaining: 8.42s\n",
      "84:\tlearn: 0.6229394\ttotal: 45s\tremaining: 7.94s\n",
      "85:\tlearn: 0.6224204\ttotal: 46s\tremaining: 7.48s\n",
      "86:\tlearn: 0.6221854\ttotal: 46.5s\tremaining: 6.95s\n",
      "87:\tlearn: 0.6220728\ttotal: 47.1s\tremaining: 6.42s\n",
      "88:\tlearn: 0.6219485\ttotal: 47.7s\tremaining: 5.89s\n",
      "89:\tlearn: 0.6216558\ttotal: 48.2s\tremaining: 5.35s\n",
      "90:\tlearn: 0.6216407\ttotal: 48.8s\tremaining: 4.82s\n",
      "91:\tlearn: 0.6214968\ttotal: 49.3s\tremaining: 4.29s\n",
      "92:\tlearn: 0.6210962\ttotal: 49.9s\tremaining: 3.75s\n",
      "93:\tlearn: 0.6209958\ttotal: 50.4s\tremaining: 3.22s\n",
      "94:\tlearn: 0.6204747\ttotal: 50.9s\tremaining: 2.68s\n",
      "95:\tlearn: 0.6204341\ttotal: 51.4s\tremaining: 2.14s\n",
      "96:\tlearn: 0.6189355\ttotal: 51.9s\tremaining: 1.61s\n",
      "97:\tlearn: 0.6188331\ttotal: 52.5s\tremaining: 1.07s\n",
      "98:\tlearn: 0.6187994\ttotal: 53s\tremaining: 536ms\n",
      "99:\tlearn: 0.6185045\ttotal: 53.5s\tremaining: 0us\n"
     ]
    }
   ],
   "source": [
    "catboost = CatBoostClassifier(max_depth=3, learning_rate=0.1, iterations=100,\n",
    "                              cat_features=[\"topic\", \"gender\", \"country\", \"city\", \"exp_group\", \"os\", \"source\"])\n",
    "\n",
    "catboost.fit(X_train.drop([\"user_id\", \"post_id\"], axis=1), y_train);"
   ]
  },
  {
   "cell_type": "code",
   "execution_count": 33,
   "metadata": {},
   "outputs": [],
   "source": [
    "X_test.drop([\"target\"], axis=1, inplace=True)"
   ]
  },
  {
   "cell_type": "code",
   "execution_count": 7,
   "metadata": {},
   "outputs": [],
   "source": [
    "new_model = CatBoostClassifier().load_model(\"updated_catboost_model\")"
   ]
  },
  {
   "cell_type": "code",
   "execution_count": 8,
   "metadata": {},
   "outputs": [],
   "source": [
    "X_test[\"target\"] = y_test\n",
    "X_test[\"prediction\"] = new_model.predict(X_test.drop([\"user_id\", \"post_id\"], axis=1))"
   ]
  },
  {
   "cell_type": "code",
   "execution_count": 9,
   "metadata": {},
   "outputs": [
    {
     "name": "stdout",
     "output_type": "stream",
     "text": [
      "0.628483170961962\n"
     ]
    }
   ],
   "source": [
    "import numpy as np\n",
    "\n",
    "users_hitrate = []\n",
    "\n",
    "for user in X_test[\"user_id\"].unique():\n",
    "    part = X_test[X_test[\"user_id\"] == user].sort_values(\"prediction\").reset_index()[:5]\n",
    "    user_hit = 0\n",
    "    for index, row in part.iterrows():\n",
    "        if row[\"prediction\"] == 1 and row[\"target\"] == 1:\n",
    "            user_hit = 1\n",
    "            break\n",
    "    users_hitrate.append(user_hit)\n",
    "\n",
    "print(np.mean(users_hitrate))"
   ]
  },
  {
   "cell_type": "code",
   "execution_count": 44,
   "metadata": {},
   "outputs": [],
   "source": [
    "catboost.save_model(\"new_catboost_model\", format=\"cbm\")"
   ]
  },
  {
   "cell_type": "markdown",
   "metadata": {},
   "source": [
    "# lightgbm"
   ]
  },
  {
   "cell_type": "code",
   "execution_count": 65,
   "metadata": {},
   "outputs": [],
   "source": [
    "from lightgbm import LGBMClassifier\n",
    "\n",
    "light_model = LGBMClassifier(max_depth=3, n_estimators=500)\n",
    "\n",
    "light_model.fit(X_train, y_train);"
   ]
  },
  {
   "cell_type": "code",
   "execution_count": 67,
   "metadata": {},
   "outputs": [],
   "source": [
    "light_model.booster_.save_model(\"new_light_model.txt\")"
   ]
  },
  {
   "cell_type": "code",
   "execution_count": 68,
   "metadata": {},
   "outputs": [
    {
     "data": {
      "text/plain": [
       "array([0.14912409, 0.09955927, 0.10288893, ..., 0.09607725, 0.09167931,\n",
       "       0.09607725])"
      ]
     },
     "execution_count": 68,
     "metadata": {},
     "output_type": "execute_result"
    }
   ],
   "source": [
    "import lightgbm\n",
    "model_from_load = lightgbm.Booster(model_file=\"new_light_model.txt\")\n",
    "model_from_load.predict(X_test)"
   ]
  },
  {
   "cell_type": "markdown",
   "metadata": {},
   "source": [
    "# KNN"
   ]
  },
  {
   "cell_type": "code",
   "execution_count": 51,
   "metadata": {},
   "outputs": [],
   "source": [
    "import numpy as np\n",
    "\n",
    "def kernel(distances, h=1):\n",
    "    \n",
    "        const = 1 / (np.sqrt(2 * np.pi))\n",
    "        power = (-1/2) * ((distances)**2) / h**2\n",
    "    \n",
    "        return const * np.exp(power)"
   ]
  },
  {
   "cell_type": "code",
   "execution_count": 52,
   "metadata": {},
   "outputs": [],
   "source": [
    "from sklearn.pipeline import Pipeline\n",
    "from sklearn.neighbors import KNeighborsClassifier\n",
    "from sklearn.preprocessing import StandardScaler\n",
    "\n",
    "\n",
    "pipe = Pipeline([('scaler', StandardScaler()), \n",
    "                 ('KNN', KNeighborsClassifier(weights=kernel))])\n",
    "\n",
    "pipe.fit(X_train.drop([\"user_id\", \"post_id\"], axis=1), y_train);"
   ]
  },
  {
   "cell_type": "markdown",
   "metadata": {},
   "source": [
    "# Расчет hitrate@5"
   ]
  },
  {
   "cell_type": "code",
   "execution_count": 72,
   "metadata": {},
   "outputs": [],
   "source": [
    "import numpy as np\n",
    "\n",
    "# Создаем DataFrame с прогнозами модели\n",
    "predictions = pipe.predict(X_test.drop([\"user_id\", \"post_id\", \"action\"], axis=1))\n",
    "\n",
    "# Добавляем столбец с прогнозами к DataFrame с тестовыми данными\n",
    "X_test['predicted_action'] = predictions\n",
    "\n",
    "# Группируем данные по пользователю и выбираем первые пять записей каждого пользователя\n",
    "grouped = X_test.groupby('user_id').head(5)\n",
    "\n",
    "# Вычисляем метрику hitrate@5\n",
    "hits = grouped[(grouped['action'] == 1) & (grouped['action'] == grouped['predicted_action'])]\n",
    "hitrate = len(hits) / len(grouped['user_id'].unique())\n",
    "\n",
    "print(\"Hitrate@5:\", hitrate)\n"
   ]
  },
  {
   "cell_type": "code",
   "execution_count": null,
   "metadata": {},
   "outputs": [],
   "source": []
  }
 ],
 "metadata": {
  "kernelspec": {
   "display_name": "venv",
   "language": "python",
   "name": "python3"
  },
  "language_info": {
   "codemirror_mode": {
    "name": "ipython",
    "version": 3
   },
   "file_extension": ".py",
   "mimetype": "text/x-python",
   "name": "python",
   "nbconvert_exporter": "python",
   "pygments_lexer": "ipython3",
   "version": "3.10.4"
  }
 },
 "nbformat": 4,
 "nbformat_minor": 2
}
